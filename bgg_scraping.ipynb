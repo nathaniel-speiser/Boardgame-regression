{
 "cells": [
  {
   "cell_type": "code",
   "execution_count": 33,
   "metadata": {},
   "outputs": [
    {
     "name": "stdout",
     "output_type": "stream",
     "text": [
      "The autoreload extension is already loaded. To reload it, use:\n",
      "  %reload_ext autoreload\n"
     ]
    }
   ],
   "source": [
    "from bs4 import BeautifulSoup\n",
    "import requests\n",
    "import pandas as pd\n",
    "import re\n",
    "import importlib\n",
    "import scraper_utils as su\n",
    "%load_ext autoreload\n",
    "%autoreload 2"
   ]
  },
  {
   "cell_type": "code",
   "execution_count": 35,
   "metadata": {},
   "outputs": [
    {
     "data": {
      "text/plain": [
       "[6, 33.99]"
      ]
     },
     "execution_count": 35,
     "metadata": {},
     "output_type": "execute_result"
    }
   ],
   "source": [
    "su.get_marketplace_data(271324)"
   ]
  },
  {
   "cell_type": "code",
   "execution_count": 36,
   "metadata": {},
   "outputs": [],
   "source": [
    "base_url = 'https://boardgamegeek.com/browse/boardgame/page/5'\n",
    "fields = ['usersrated','average','baverage','avgweight', 'numweights', 'numgeeklists', 'numtrading',\n",
    "          'numwanting','numwish', 'numowned','numplays', 'numplays_month','numfans', 'yearpublished', 'minplayers',\n",
    "          'maxplayers', 'minplaytime', 'maxplaytime', 'minage']"
   ]
  },
  {
   "cell_type": "code",
   "execution_count": 71,
   "metadata": {},
   "outputs": [],
   "source": [
    "def get_field_value_html(gi_string, field_name):\n",
    "    \"\"\"\n",
    "    Given string in <script> tag containing all information and field name ('minplayers', 'baverage', etc),\n",
    "    returns float of the value from that string\n",
    "    \"\"\"\n",
    "    search_text = '\\\"'+field_name+'\\\":.+?[0-9][^0-9.]'\n",
    "    string_with_val = re.findall(search_text, gi_string)[0]\n",
    "    val = re.sub(\"[^\\d\\.]\", \"\", string_with_val)\n",
    "    try:\n",
    "        return float(val)\n",
    "    except:\n",
    "        return -1\n",
    "\n",
    "def get_game_types(gi_string, game_id):\n",
    "    \"\"\"\n",
    "    Given string in <script> tag containing all information, returns a list containing the top types of that\n",
    "    game (only 6 or so from BGG)\n",
    "    \n",
    "    \"\"\"\n",
    "    search_text = '\\\"veryshortprettyname\\\":\\\".+?\\\"'\n",
    "    type_strings = re.findall(search_text,gi_string)\n",
    "    types = []\n",
    "    for type_string in type_strings:\n",
    "        type_ = type_string.split('\\\"')[-2].strip().lower()\n",
    "        if type_.lower() != 'overall':\n",
    "            types.append(type_)\n",
    "    return types\n",
    "\n",
    "def get_game_categories(gi_string, game_id):\n",
    "    \"\"\"\n",
    "    Given string in <script> tag containing all information, return list containing numerical codes (as ints)\n",
    "    of the categories\n",
    "    \"\"\"\n",
    "    search_text='\\\"propertyid\\\":\\[(.+?)\\]'\n",
    "    pid_string = re.search(search_text, gi_string)\n",
    "    try:\n",
    "        category_list_str = pid_string.group(1).replace('\\\"','')\n",
    "        category_list = category_list_str.strip().split(',')\n",
    "        category_list = [int(cat) for cat in category_list]\n",
    "        return category_list\n",
    "    except:\n",
    "        print('Couldnt get categories for id ',game_id)\n",
    "        return []"
   ]
  },
  {
   "cell_type": "code",
   "execution_count": 72,
   "metadata": {},
   "outputs": [],
   "source": [
    "def get_game_info_html(game_id, game_dict):\n",
    "    base_url = 'https://boardgamegeek.com/boardgame/'\n",
    "    url = base_url+game_id\n",
    "    response=requests.get(url)\n",
    "    soup = BeautifulSoup(response.text, 'html5lib')\n",
    "    script=soup.find_all('script')[1]\n",
    "    game_info=script.contents[0]\n",
    "\n",
    "    #Get numerical/continues field values\n",
    "    for field in fields:\n",
    "        game_dict[field] = get_field_value_html(game_info, field)\n",
    "    \n",
    "    #Get game categories\n",
    "    game_dict['categories']=get_game_categories(game_info, game_id)\n",
    "    \n",
    "    #Get game types, mostly redundant with categories\n",
    "    game_dict['types'] = get_game_types(game_info, game_id)\n",
    "\n"
   ]
  },
  {
   "cell_type": "code",
   "execution_count": 73,
   "metadata": {
    "code_folding": []
   },
   "outputs": [],
   "source": [
    "def get_bgg_info(first,last):\n",
    "    \n",
    "    \"\"\"\n",
    "    Outermost scraping function - starts by scraping name and id from BGG page, then goes to that games page\n",
    "    and scrapes information. Then puts all that data into a dict and turns the dicts for all the games into\n",
    "    a dataframe. Goes from first page to last page, inclusive.\n",
    "    \"\"\"\n",
    "    \n",
    "    #List of dicts that will be turned into dataframe and saved\n",
    "    game_dict_list = []\n",
    "    \n",
    "    #URL for pages with games in order of popularity\n",
    "    base_url = 'https://boardgamegeek.com/browse/boardgame/page/'\n",
    "    \n",
    "    for i in range(first, last+1):\n",
    "        #Get web page html with BS\n",
    "        url = base_url + str(i)\n",
    "        response = requests.get(url)\n",
    "        if response.status_code > 299:\n",
    "            print(\"Couldnt get page \", i)\n",
    "            continue\n",
    "        soup = BeautifulSoup(response.text, 'html5lib')\n",
    "        \n",
    "        games = soup.find_all('tr', id='row_')\n",
    "        for game in games:\n",
    "            game_dict = {}\n",
    "            main_a = game.find('a', class_='primary')\n",
    "            game_id = main_a['href'].split('/')[2]\n",
    "            game_dict['Name'] = main_a.text\n",
    "            game_dict['id']   = game_id\n",
    "            get_game_info_html(game_id, game_dict)\n",
    "            game_dict_list.append(game_dict)\n",
    "    df = pd.DataFrame(game_dict_list)\n",
    "    return df"
   ]
  },
  {
   "cell_type": "code",
   "execution_count": null,
   "metadata": {},
   "outputs": [],
   "source": [
    "df1=get_bgg_info(1,10)"
   ]
  },
  {
   "cell_type": "code",
   "execution_count": 74,
   "metadata": {},
   "outputs": [
    {
     "name": "stdout",
     "output_type": "stream",
     "text": [
      "On loop 2\n",
      "Couldnt get categories for id  18291\n",
      "On loop 3\n",
      "Couldnt get categories for id  23953\n",
      "On loop 4\n",
      "Couldnt get categories for id  295944\n",
      "Couldnt get categories for id  5985\n",
      "Couldnt get categories for id  317231\n",
      "On loop 5\n",
      "On loop 6\n",
      "Couldnt get categories for id  214747\n",
      "Couldnt get categories for id  255332\n",
      "Couldnt get categories for id  206928\n",
      "On loop 7\n",
      "Couldnt get categories for id  284082\n",
      "On loop 8\n",
      "Couldnt get categories for id  202477\n",
      "Couldnt get categories for id  268846\n",
      "Couldnt get categories for id  307656\n",
      "On loop 9\n",
      "Couldnt get categories for id  206925\n"
     ]
    }
   ],
   "source": [
    "df_list = []\n",
    "for i in range(2,10):\n",
    "    print('On loop',i)\n",
    "    start = i*10 + 1\n",
    "    end = (i+1)*10\n",
    "    df = get_bgg_info(start,end)\n",
    "    fname = f'data/partial_data/df{i}.csv'\n",
    "    df.to_csv(fname, index=False)\n",
    "    df_list.append(df)\n",
    "    "
   ]
  },
  {
   "cell_type": "code",
   "execution_count": 75,
   "metadata": {},
   "outputs": [
    {
     "data": {
      "text/plain": [
       "8"
      ]
     },
     "execution_count": 75,
     "metadata": {},
     "output_type": "execute_result"
    }
   ],
   "source": [
    "len(df_list)"
   ]
  },
  {
   "cell_type": "code",
   "execution_count": null,
   "metadata": {},
   "outputs": [],
   "source": []
  }
 ],
 "metadata": {
  "kernelspec": {
   "display_name": "Python [conda env:metis] *",
   "language": "python",
   "name": "conda-env-metis-py"
  },
  "language_info": {
   "codemirror_mode": {
    "name": "ipython",
    "version": 3
   },
   "file_extension": ".py",
   "mimetype": "text/x-python",
   "name": "python",
   "nbconvert_exporter": "python",
   "pygments_lexer": "ipython3",
   "version": "3.8.6"
  },
  "toc": {
   "base_numbering": 1,
   "nav_menu": {},
   "number_sections": true,
   "sideBar": true,
   "skip_h1_title": false,
   "title_cell": "Table of Contents",
   "title_sidebar": "Contents",
   "toc_cell": false,
   "toc_position": {},
   "toc_section_display": true,
   "toc_window_display": false
  },
  "varInspector": {
   "cols": {
    "lenName": 16,
    "lenType": 16,
    "lenVar": 40
   },
   "kernels_config": {
    "python": {
     "delete_cmd_postfix": "",
     "delete_cmd_prefix": "del ",
     "library": "var_list.py",
     "varRefreshCmd": "print(var_dic_list())"
    },
    "r": {
     "delete_cmd_postfix": ") ",
     "delete_cmd_prefix": "rm(",
     "library": "var_list.r",
     "varRefreshCmd": "cat(var_dic_list()) "
    }
   },
   "types_to_exclude": [
    "module",
    "function",
    "builtin_function_or_method",
    "instance",
    "_Feature"
   ],
   "window_display": false
  }
 },
 "nbformat": 4,
 "nbformat_minor": 4
}

{
 "cells": [
  {
   "cell_type": "code",
   "execution_count": 4,
   "metadata": {},
   "outputs": [],
   "source": [
    "from bs4 import BeautifulSoup\n",
    "import requests\n",
    "import pandas as pd\n",
    "import numpy as np"
   ]
  },
  {
   "cell_type": "code",
   "execution_count": 69,
   "metadata": {},
   "outputs": [],
   "source": [
    "def get_marketplace_data(game_id):\n",
    "    \"\"\"\n",
    "    Given game id, return list with number of marketplace listings and median price\n",
    "    \"\"\"\n",
    "    url = f'https://www.boardgamegeek.com/xmlapi2/thing?id={game_id}&marketplace=1'\n",
    "    response=requests.get(url)\n",
    "    if response.status_code > 300:\n",
    "        print('FAILED: ', game_id)\n",
    "        return [-1,-1]\n",
    "    soup = BeautifulSoup(response.text, 'xml')\n",
    "    listings = [price.parent()[:2] for price in soup.find_all('price', currency='USD')]\n",
    "    \n",
    "    num_listings = len(listings)\n",
    "    \n",
    "    if num_listings == 0:\n",
    "        return [0,0]\n",
    "\n",
    "    prices = [float(listing[1]['value']) for listing in listings]\n",
    "    median_price = np.median(prices)\n",
    "\n",
    "    \n",
    "    return [num_listings, median_price]"
   ]
  },
  {
   "cell_type": "code",
   "execution_count": 70,
   "metadata": {},
   "outputs": [
    {
     "data": {
      "text/plain": [
       "[2, 31.0]"
      ]
     },
     "execution_count": 70,
     "metadata": {},
     "output_type": "execute_result"
    }
   ],
   "source": [
    "get_marketplace_data(1192)"
   ]
  },
  {
   "cell_type": "code",
   "execution_count": 78,
   "metadata": {},
   "outputs": [],
   "source": [
    "from scraper_utils import make_category_dict"
   ]
  },
  {
   "cell_type": "code",
   "execution_count": 79,
   "metadata": {},
   "outputs": [
    {
     "data": {
      "text/plain": [
       "{1120: 'Print & Play',\n",
       " 1019: 'Wargame',\n",
       " 1009: 'Abstract Strategy',\n",
       " 1016: 'Science Fiction',\n",
       " 1002: 'Card Game',\n",
       " 1010: 'Fantasy',\n",
       " 1039: 'Deduction',\n",
       " 1024: 'Horror',\n",
       " 1021: 'Economic',\n",
       " 1015: 'Civilization'}"
      ]
     },
     "execution_count": 79,
     "metadata": {},
     "output_type": "execute_result"
    }
   ],
   "source": [
    "make_category_dict(10)"
   ]
  },
  {
   "cell_type": "code",
   "execution_count": null,
   "metadata": {},
   "outputs": [],
   "source": []
  }
 ],
 "metadata": {
  "kernelspec": {
   "display_name": "Python [conda env:metis] *",
   "language": "python",
   "name": "conda-env-metis-py"
  },
  "language_info": {
   "codemirror_mode": {
    "name": "ipython",
    "version": 3
   },
   "file_extension": ".py",
   "mimetype": "text/x-python",
   "name": "python",
   "nbconvert_exporter": "python",
   "pygments_lexer": "ipython3",
   "version": "3.8.6"
  },
  "toc": {
   "base_numbering": 1,
   "nav_menu": {},
   "number_sections": true,
   "sideBar": true,
   "skip_h1_title": false,
   "title_cell": "Table of Contents",
   "title_sidebar": "Contents",
   "toc_cell": false,
   "toc_position": {},
   "toc_section_display": true,
   "toc_window_display": false
  },
  "varInspector": {
   "cols": {
    "lenName": 16,
    "lenType": 16,
    "lenVar": 40
   },
   "kernels_config": {
    "python": {
     "delete_cmd_postfix": "",
     "delete_cmd_prefix": "del ",
     "library": "var_list.py",
     "varRefreshCmd": "print(var_dic_list())"
    },
    "r": {
     "delete_cmd_postfix": ") ",
     "delete_cmd_prefix": "rm(",
     "library": "var_list.r",
     "varRefreshCmd": "cat(var_dic_list()) "
    }
   },
   "types_to_exclude": [
    "module",
    "function",
    "builtin_function_or_method",
    "instance",
    "_Feature"
   ],
   "window_display": false
  }
 },
 "nbformat": 4,
 "nbformat_minor": 4
}

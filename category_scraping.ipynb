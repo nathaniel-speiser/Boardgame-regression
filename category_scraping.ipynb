{
 "cells": [
  {
   "cell_type": "code",
   "execution_count": 2,
   "metadata": {},
   "outputs": [],
   "source": [
    "from bs4 import BeautifulSoup\n",
    "import requests\n",
    "import pandas as pd\n",
    "import re"
   ]
  },
  {
   "cell_type": "code",
   "execution_count": 3,
   "metadata": {},
   "outputs": [],
   "source": []
  },
  {
   "cell_type": "code",
   "execution_count": 41,
   "metadata": {},
   "outputs": [],
   "source": [
    "def get_category_fans(link):\n",
    "    \"\"\"\n",
    "    Given link to boardgame category page on bgg, returns the number of fans of that category\n",
    "    \n",
    "    \"\"\"\n",
    "    url = 'https://boardgamegeek.com'+link\n",
    "    response=requests.get(url)\n",
    "    soup=BeautifulSoup(response.text, 'html5lib')\n",
    "    script=soup.find_all('script')[1]\n",
    "    cat_info=script.contents[0]\n",
    "    search_text = '\\\"numfans\\\":(\\d*)}'\n",
    "    nf_string = re.search(search_text,cat_info)\n",
    "    return int(nf_string.group(1))    \n",
    "\n",
    "def make_category_dict(num_top):\n",
    "    \"\"\"\n",
    "    Generates dict of num_top most popular game categories\n",
    "    4 digit code is key, name is value\n",
    "    \"\"\"\n",
    "    category_list = []\n",
    "    url = 'https://boardgamegeek.com/browse/boardgamecategory'\n",
    "    response=requests.get(url)\n",
    "    soup = BeautifulSoup(response.text, 'html5lib')\n",
    "    table = soup.find('table', class_='forum_table')\n",
    "    entries = table.find_all('a')\n",
    "    for entry in entries:\n",
    "        category = entry.text\n",
    "        link = entry['href']\n",
    "        id_ = int(link.split('/')[-2])\n",
    "        num_fans = get_category_fans(link)\n",
    "        category_list.append([id_,category,num_fans])\n",
    "    category_df = pd.DataFrame(category_list,columns=['category_id','category_name','category_fans'])\n",
    "    top_categories = category_df.sort_values('category_fans', ascending=False)[:num_top]\n",
    "    top_categories_dict = pd.Series(top_categories['category_name'].values,\n",
    "                                    index=top_categories['category_id']).to_dict()\n",
    "    return top_categories_dict\n",
    "\n",
    "def code_to_name(categories_dict, code_list):\n",
    "    \"\"\"\n",
    "    Converts list of category codes to a list of names of those categories\n",
    "    \"\"\"\n",
    "    name_list=[categories_dict[code] for code in code_list if (code in categories_dict.keys())]\n",
    "    if not name_list:\n",
    "        name_list.append('No top categories')\n",
    "    return name_list"
   ]
  },
  {
   "cell_type": "code",
   "execution_count": 42,
   "metadata": {},
   "outputs": [],
   "source": [
    "cd=make_category_dict(10)\n"
   ]
  },
  {
   "cell_type": "code",
   "execution_count": 46,
   "metadata": {},
   "outputs": [
    {
     "data": {
      "text/plain": [
       "['Wargame']"
      ]
     },
     "execution_count": 46,
     "metadata": {},
     "output_type": "execute_result"
    }
   ],
   "source": [
    "code_to_name(cd,[20123,1,2,1019])"
   ]
  },
  {
   "cell_type": "code",
   "execution_count": 5,
   "metadata": {
    "scrolled": false
   },
   "outputs": [],
   "source": [
    "category_list = []\n",
    "table = soup.find('table', class_='forum_table')\n",
    "entries = table.find_all('a')\n",
    "for entry in entries:\n",
    "    category = entry.text\n",
    "    link = entry['href']\n",
    "    id_ = int(link.split('/')[-2])\n",
    "    num_fans = get_category_fans(link)\n",
    "    category_list.append([id_,category,num_fans])\n",
    "\n"
   ]
  },
  {
   "cell_type": "code",
   "execution_count": 6,
   "metadata": {},
   "outputs": [
    {
     "name": "stdout",
     "output_type": "stream",
     "text": [
      "[[1009, 'Abstract Strategy', 214], [1032, 'Action / Dexterity', 56], [1022, 'Adventure', 99], [2726, 'Age of Reason', 19], [1048, 'American Civil War', 26], [1108, 'American Indian Wars', 12], [1075, 'American Revolutionary War', 14], [1055, 'American West', 49], [1050, 'Ancient', 69], [1089, 'Animals', 41], [1052, 'Arabian', 6], [2650, 'Aviation / Flight', 20], [1023, 'Bluffing', 44], [1117, 'Book', 9], [1002, 'Card Game', 153], [1041, \"Children's Game\", 41], [1029, 'City Building', 80], [1102, 'Civil War', 3], [1015, 'Civilization', 103], [1044, 'Collectible Components', 6], [1116, 'Comic Book / Strip', 14], [1039, 'Deduction', 125], [1017, 'Dice', 54], [1021, 'Economic', 119], [1094, 'Educational', 23], [1072, 'Electronic', 6], [1084, 'Environmental', 27], [1042, 'Expansion for Base-game', 13], [1020, 'Exploration', 69], [2687, 'Fan Expansion', 6], [1010, 'Fantasy', 139], [1013, 'Farming', 21], [1046, 'Fighting', 28], [1119, 'Game System', 17], [1024, 'Horror', 120], [1079, 'Humor', 24], [1088, 'Industry / Manufacturing', 29], [1091, 'Korean War', 10], [1033, 'Mafia', 11], [1104, 'Math', 14], [1118, 'Mature / Adult', 16], [1059, 'Maze', 13], [2145, 'Medical', 22], [1035, 'Medieval', 68], [1045, 'Memory', 2], [1047, 'Miniatures', 94], [1069, 'Modern Warfare', 30], [1064, 'Movies / TV / Radio theme', 11], [1040, 'Murder/Mystery', 50], [1054, 'Music', 5], [1082, 'Mythology', 48], [1051, 'Napoleonic', 37], [1008, 'Nautical', 39], [1026, 'Negotiation', 31], [1093, 'Novel-based', 13], [1098, 'Number', 5], [1030, 'Party Game', 98], [2725, 'Pike and Shot', 15], [1090, 'Pirates', 54], [1001, 'Political', 36], [2710, 'Post-Napoleonic', 8], [1036, 'Prehistoric', 26], [1120, 'Print & Play', 658], [1028, 'Puzzle', 29], [1031, 'Racing', 29], [1037, 'Real-time', 33], [1115, 'Religious', 19], [1070, 'Renaissance', 22], [1016, 'Science Fiction', 158], [1113, 'Space Exploration', 84], [1081, 'Spies/Secret Agents', 19], [1038, 'Sports', 20], [1086, 'Territory Building', 34], [1034, 'Trains', 62], [1011, 'Transportation', 12], [1097, 'Travel', 11], [1027, 'Trivia', 10], [1101, 'Video Game Theme', 16], [1109, 'Vietnam War', 14], [1019, 'Wargame', 234], [1025, 'Word Game', 26], [1065, 'World War I', 37], [1049, 'World War II', 85], [2481, 'Zombies', 52]]\n"
     ]
    }
   ],
   "source": [
    "print(category_list)"
   ]
  },
  {
   "cell_type": "code",
   "execution_count": 31,
   "metadata": {},
   "outputs": [
    {
     "name": "stdout",
     "output_type": "stream",
     "text": [
      "<class 'pandas.core.frame.DataFrame'>\n",
      "Int64Index: 20 entries, 62 to 73\n",
      "Data columns (total 3 columns):\n",
      " #   Column         Non-Null Count  Dtype \n",
      "---  ------         --------------  ----- \n",
      " 0   category_id    20 non-null     int64 \n",
      " 1   category_name  20 non-null     object\n",
      " 2   category_fans  20 non-null     int64 \n",
      "dtypes: int64(2), object(1)\n",
      "memory usage: 640.0+ bytes\n"
     ]
    }
   ],
   "source": [
    "category_df = pd.DataFrame(category_list,columns=['category_id','category_name','category_fans'])\n",
    "top_categories = category_df.sort_values('category_fans', ascending=False)[:20]\n",
    "top_categories.info()"
   ]
  },
  {
   "cell_type": "code",
   "execution_count": 32,
   "metadata": {},
   "outputs": [
    {
     "data": {
      "text/html": [
       "<div>\n",
       "<style scoped>\n",
       "    .dataframe tbody tr th:only-of-type {\n",
       "        vertical-align: middle;\n",
       "    }\n",
       "\n",
       "    .dataframe tbody tr th {\n",
       "        vertical-align: top;\n",
       "    }\n",
       "\n",
       "    .dataframe thead th {\n",
       "        text-align: right;\n",
       "    }\n",
       "</style>\n",
       "<table border=\"1\" class=\"dataframe\">\n",
       "  <thead>\n",
       "    <tr style=\"text-align: right;\">\n",
       "      <th></th>\n",
       "      <th>category_id</th>\n",
       "      <th>category_name</th>\n",
       "      <th>category_fans</th>\n",
       "    </tr>\n",
       "  </thead>\n",
       "  <tbody>\n",
       "    <tr>\n",
       "      <th>62</th>\n",
       "      <td>1120</td>\n",
       "      <td>Print &amp; Play</td>\n",
       "      <td>658</td>\n",
       "    </tr>\n",
       "    <tr>\n",
       "      <th>79</th>\n",
       "      <td>1019</td>\n",
       "      <td>Wargame</td>\n",
       "      <td>234</td>\n",
       "    </tr>\n",
       "    <tr>\n",
       "      <th>0</th>\n",
       "      <td>1009</td>\n",
       "      <td>Abstract Strategy</td>\n",
       "      <td>214</td>\n",
       "    </tr>\n",
       "    <tr>\n",
       "      <th>68</th>\n",
       "      <td>1016</td>\n",
       "      <td>Science Fiction</td>\n",
       "      <td>158</td>\n",
       "    </tr>\n",
       "    <tr>\n",
       "      <th>14</th>\n",
       "      <td>1002</td>\n",
       "      <td>Card Game</td>\n",
       "      <td>153</td>\n",
       "    </tr>\n",
       "    <tr>\n",
       "      <th>30</th>\n",
       "      <td>1010</td>\n",
       "      <td>Fantasy</td>\n",
       "      <td>139</td>\n",
       "    </tr>\n",
       "    <tr>\n",
       "      <th>21</th>\n",
       "      <td>1039</td>\n",
       "      <td>Deduction</td>\n",
       "      <td>125</td>\n",
       "    </tr>\n",
       "    <tr>\n",
       "      <th>34</th>\n",
       "      <td>1024</td>\n",
       "      <td>Horror</td>\n",
       "      <td>120</td>\n",
       "    </tr>\n",
       "    <tr>\n",
       "      <th>23</th>\n",
       "      <td>1021</td>\n",
       "      <td>Economic</td>\n",
       "      <td>119</td>\n",
       "    </tr>\n",
       "    <tr>\n",
       "      <th>18</th>\n",
       "      <td>1015</td>\n",
       "      <td>Civilization</td>\n",
       "      <td>103</td>\n",
       "    </tr>\n",
       "    <tr>\n",
       "      <th>2</th>\n",
       "      <td>1022</td>\n",
       "      <td>Adventure</td>\n",
       "      <td>99</td>\n",
       "    </tr>\n",
       "    <tr>\n",
       "      <th>56</th>\n",
       "      <td>1030</td>\n",
       "      <td>Party Game</td>\n",
       "      <td>98</td>\n",
       "    </tr>\n",
       "    <tr>\n",
       "      <th>45</th>\n",
       "      <td>1047</td>\n",
       "      <td>Miniatures</td>\n",
       "      <td>94</td>\n",
       "    </tr>\n",
       "    <tr>\n",
       "      <th>82</th>\n",
       "      <td>1049</td>\n",
       "      <td>World War II</td>\n",
       "      <td>85</td>\n",
       "    </tr>\n",
       "    <tr>\n",
       "      <th>69</th>\n",
       "      <td>1113</td>\n",
       "      <td>Space Exploration</td>\n",
       "      <td>84</td>\n",
       "    </tr>\n",
       "    <tr>\n",
       "      <th>16</th>\n",
       "      <td>1029</td>\n",
       "      <td>City Building</td>\n",
       "      <td>80</td>\n",
       "    </tr>\n",
       "    <tr>\n",
       "      <th>8</th>\n",
       "      <td>1050</td>\n",
       "      <td>Ancient</td>\n",
       "      <td>69</td>\n",
       "    </tr>\n",
       "    <tr>\n",
       "      <th>28</th>\n",
       "      <td>1020</td>\n",
       "      <td>Exploration</td>\n",
       "      <td>69</td>\n",
       "    </tr>\n",
       "    <tr>\n",
       "      <th>43</th>\n",
       "      <td>1035</td>\n",
       "      <td>Medieval</td>\n",
       "      <td>68</td>\n",
       "    </tr>\n",
       "    <tr>\n",
       "      <th>73</th>\n",
       "      <td>1034</td>\n",
       "      <td>Trains</td>\n",
       "      <td>62</td>\n",
       "    </tr>\n",
       "  </tbody>\n",
       "</table>\n",
       "</div>"
      ],
      "text/plain": [
       "    category_id      category_name  category_fans\n",
       "62         1120       Print & Play            658\n",
       "79         1019            Wargame            234\n",
       "0          1009  Abstract Strategy            214\n",
       "68         1016    Science Fiction            158\n",
       "14         1002          Card Game            153\n",
       "30         1010            Fantasy            139\n",
       "21         1039          Deduction            125\n",
       "34         1024             Horror            120\n",
       "23         1021           Economic            119\n",
       "18         1015       Civilization            103\n",
       "2          1022          Adventure             99\n",
       "56         1030         Party Game             98\n",
       "45         1047         Miniatures             94\n",
       "82         1049       World War II             85\n",
       "69         1113  Space Exploration             84\n",
       "16         1029      City Building             80\n",
       "8          1050            Ancient             69\n",
       "28         1020        Exploration             69\n",
       "43         1035           Medieval             68\n",
       "73         1034             Trains             62"
      ]
     },
     "execution_count": 32,
     "metadata": {},
     "output_type": "execute_result"
    }
   ],
   "source": [
    "#top_categories.set_index('category_id',inplace=True)\n",
    "top_categories\n"
   ]
  },
  {
   "cell_type": "code",
   "execution_count": 23,
   "metadata": {},
   "outputs": [],
   "source": [
    "n=np.array(top_categories['category_id'])"
   ]
  },
  {
   "cell_type": "code",
   "execution_count": 30,
   "metadata": {},
   "outputs": [
    {
     "name": "stdout",
     "output_type": "stream",
     "text": [
      "Print & Play\n"
     ]
    }
   ],
   "source": [
    "test_list = [1120, 2013]\n",
    "\n",
    "for val in test_list:\n",
    "    if val in n:\n",
    "        print(top_categories.loc[val,'category_name'])"
   ]
  },
  {
   "cell_type": "code",
   "execution_count": 34,
   "metadata": {},
   "outputs": [
    {
     "data": {
      "text/plain": [
       "{1120: 'Print & Play',\n",
       " 1019: 'Wargame',\n",
       " 1009: 'Abstract Strategy',\n",
       " 1016: 'Science Fiction',\n",
       " 1002: 'Card Game',\n",
       " 1010: 'Fantasy',\n",
       " 1039: 'Deduction',\n",
       " 1024: 'Horror',\n",
       " 1021: 'Economic',\n",
       " 1015: 'Civilization',\n",
       " 1022: 'Adventure',\n",
       " 1030: 'Party Game',\n",
       " 1047: 'Miniatures',\n",
       " 1049: 'World War II',\n",
       " 1113: 'Space Exploration',\n",
       " 1029: 'City Building',\n",
       " 1050: 'Ancient',\n",
       " 1020: 'Exploration',\n",
       " 1035: 'Medieval',\n",
       " 1034: 'Trains'}"
      ]
     },
     "execution_count": 34,
     "metadata": {},
     "output_type": "execute_result"
    }
   ],
   "source": [
    "#pd.Series(df.Letter.values,index=df.Position).to_dict()\n",
    "pd.Series(top_categories['category_name'].values, index=top_categories['category_id']).to_dict()"
   ]
  },
  {
   "cell_type": "code",
   "execution_count": null,
   "metadata": {},
   "outputs": [],
   "source": [
    "de"
   ]
  }
 ],
 "metadata": {
  "kernelspec": {
   "display_name": "Python [conda env:metis] *",
   "language": "python",
   "name": "conda-env-metis-py"
  },
  "language_info": {
   "codemirror_mode": {
    "name": "ipython",
    "version": 3
   },
   "file_extension": ".py",
   "mimetype": "text/x-python",
   "name": "python",
   "nbconvert_exporter": "python",
   "pygments_lexer": "ipython3",
   "version": "3.8.6"
  },
  "toc": {
   "base_numbering": 1,
   "nav_menu": {},
   "number_sections": true,
   "sideBar": true,
   "skip_h1_title": false,
   "title_cell": "Table of Contents",
   "title_sidebar": "Contents",
   "toc_cell": false,
   "toc_position": {},
   "toc_section_display": true,
   "toc_window_display": false
  },
  "varInspector": {
   "cols": {
    "lenName": 16,
    "lenType": 16,
    "lenVar": 40
   },
   "kernels_config": {
    "python": {
     "delete_cmd_postfix": "",
     "delete_cmd_prefix": "del ",
     "library": "var_list.py",
     "varRefreshCmd": "print(var_dic_list())"
    },
    "r": {
     "delete_cmd_postfix": ") ",
     "delete_cmd_prefix": "rm(",
     "library": "var_list.r",
     "varRefreshCmd": "cat(var_dic_list()) "
    }
   },
   "types_to_exclude": [
    "module",
    "function",
    "builtin_function_or_method",
    "instance",
    "_Feature"
   ],
   "window_display": false
  }
 },
 "nbformat": 4,
 "nbformat_minor": 4
}
